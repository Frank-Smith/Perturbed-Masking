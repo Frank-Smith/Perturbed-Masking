{
 "cells": [
  {
   "cell_type": "code",
   "execution_count": 1,
   "metadata": {},
   "outputs": [],
   "source": [
    "import sys\n",
    "sys.path.append(\"..\")\n",
    "from conlludataset import ConllUDataset"
   ]
  },
  {
   "cell_type": "code",
   "execution_count": 2,
   "metadata": {},
   "outputs": [
    {
     "name": "stdout",
     "output_type": "stream",
     "text": [
      "dataset used: EWT.conllu\n",
      "dataset used: PUD.conllu\n",
      "dataset used: WSJ10.conllu\n",
      "dataset used: WSJ23.conllu\n"
     ]
    }
   ],
   "source": [
    "ewt = ConllUDataset('EWT.conllu')\n",
    "pud = ConllUDataset('PUD.conllu')\n",
    "wsj = ConllUDataset('WSJ10.conllu')\n",
    "wsj23 = ConllUDataset('WSJ23.conllu')"
   ]
  },
  {
   "cell_type": "code",
   "execution_count": 9,
   "metadata": {},
   "outputs": [
    {
     "name": "stdout",
     "output_type": "stream",
     "text": [
      "12.55616575137294\n",
      "21.183\n",
      "7.038663613094436\n",
      "23.452213487794786\n"
     ]
    }
   ],
   "source": [
    "def get_length(dataset):\n",
    "    length, count = 0., 0.\n",
    "    for sentence in dataset.tokens:\n",
    "        length += len(sentence) -1\n",
    "        count += 1\n",
    "    print(length/count)\n",
    "get_length(ewt)\n",
    "get_length(pud)\n",
    "get_length(wsj)\n",
    "get_length(wsj23)"
   ]
  },
  {
   "cell_type": "code",
   "execution_count": 5,
   "metadata": {},
   "outputs": [
    {
     "name": "stdout",
     "output_type": "stream",
     "text": [
      "10\n",
      "59\n",
      "67\n"
     ]
    }
   ],
   "source": [
    "def get_max(dataset):\n",
    "    max_length = 0.\n",
    "    for sentence in dataset.tokens:\n",
    "        tmp = len(sentence) -1\n",
    "        if tmp > max_length:\n",
    "            max_length = tmp\n",
    "    print(max_length) \n",
    "\n",
    "get_max(wsj)\n",
    "get_max(pud)\n",
    "get_max(wsj23)"
   ]
  },
  {
   "cell_type": "code",
   "execution_count": 10,
   "metadata": {},
   "outputs": [
    {
     "name": "stdout",
     "output_type": "stream",
     "text": [
      "8\n",
      "21.0\n",
      "23\n"
     ]
    }
   ],
   "source": [
    "import statistics\n",
    "\n",
    "def get_middle(dataset):\n",
    "    length = []\n",
    "    for sentence in dataset.tokens:\n",
    "        length.append((len(sentence) -1))\n",
    "    \n",
    "    print(statistics.median(length))\n",
    "\n",
    "get_middle(wsj)\n",
    "get_middle(pud)\n",
    "get_middle(wsj23)"
   ]
  },
  {
   "cell_type": "code",
   "execution_count": null,
   "metadata": {},
   "outputs": [],
   "source": []
  }
 ],
 "metadata": {
  "kernelspec": {
   "display_name": "Python 3",
   "language": "python",
   "name": "python3"
  },
  "language_info": {
   "codemirror_mode": {
    "name": "ipython",
    "version": 3
   },
   "file_extension": ".py",
   "mimetype": "text/x-python",
   "name": "python",
   "nbconvert_exporter": "python",
   "pygments_lexer": "ipython3",
   "version": "3.7.3"
  }
 },
 "nbformat": 4,
 "nbformat_minor": 4
}
